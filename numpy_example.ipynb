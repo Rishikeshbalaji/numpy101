{
 "cells": [
  {
   "cell_type": "code",
   "execution_count": 1,
   "id": "13cc663c-bb17-4367-b78d-4290fb18ba9c",
   "metadata": {},
   "outputs": [
    {
     "data": {
      "text/plain": [
       "array([1, 2, 3, 4, 4])"
      ]
     },
     "execution_count": 1,
     "metadata": {},
     "output_type": "execute_result"
    }
   ],
   "source": [
    "import numpy as np\n",
    "np.array([1,2,3,4,4])"
   ]
  },
  {
   "cell_type": "code",
   "execution_count": 2,
   "id": "15005781-216a-4d3a-9948-6f40fba169c5",
   "metadata": {},
   "outputs": [
    {
     "data": {
      "text/plain": [
       "<function numpy.zeros>"
      ]
     },
     "execution_count": 2,
     "metadata": {},
     "output_type": "execute_result"
    }
   ],
   "source": [
    "np.zeros"
   ]
  },
  {
   "cell_type": "code",
   "execution_count": 10,
   "id": "b20cd861-194e-4ceb-9ae0-ba62d32a40b5",
   "metadata": {},
   "outputs": [
    {
     "data": {
      "text/plain": [
       "array([0.41683577, 0.29608854, 0.92736045, 0.44906435, 0.70285946,\n",
       "       0.85974235, 0.11483865, 0.58502103, 0.67705502, 0.11933604,\n",
       "       0.56524179, 0.83818955, 0.06018981, 0.69462351, 0.53925762,\n",
       "       0.08012108, 0.58488128, 0.30707104, 0.85525262, 0.9160314 ,\n",
       "       0.72578792, 0.38583997, 0.77217074, 0.30925481, 0.51379749,\n",
       "       0.03223869, 0.04802132, 0.07226516, 0.31826554, 0.17422622])"
      ]
     },
     "execution_count": 10,
     "metadata": {},
     "output_type": "execute_result"
    }
   ],
   "source": [
    "np.random.random(30)"
   ]
  },
  {
   "cell_type": "code",
   "execution_count": 11,
   "id": "1c4d8945-05c0-44f7-8763-87fc1335f4b4",
   "metadata": {},
   "outputs": [],
   "source": [
    "# creat two arries : diatsance :100,20,300,400\n",
    "# and speed 15,25,30,40\n",
    "# and tell me the maximum time taken\n",
    "# using array only"
   ]
  },
  {
   "cell_type": "code",
   "execution_count": 20,
   "id": "855e1423-a5a9-410a-b12a-96e221cce0be",
   "metadata": {},
   "outputs": [
    {
     "name": "stdout",
     "output_type": "stream",
     "text": [
      "[ 6.66666667  0.8        10.         10.        ]\n",
      "10.0\n"
     ]
    }
   ],
   "source": [
    "d=np.array([100,20,300,400])\n",
    "s= np.array([15,25,30,40])\n",
    "a= d/s\n",
    "print(a)\n",
    "max=np.max(a)\n",
    "print(max)\n",
    "# max= np.maximum(s)"
   ]
  },
  {
   "cell_type": "code",
   "execution_count": 29,
   "id": "95037cf8-b306-4433-8b1b-11149ceb6619",
   "metadata": {},
   "outputs": [
    {
     "name": "stdout",
     "output_type": "stream",
     "text": [
      "[[100  20 300]\n",
      " [ 10  20 300]]\n",
      "[[1 3 4]\n",
      " [2 4 5]]\n",
      "[[101  23 304]\n",
      " [ 12  24 305]]\n"
     ]
    }
   ],
   "source": [
    "dis=np.array([\n",
    "            [100,20,300],\n",
    "             [10,20,300],\n",
    "             \n",
    "             ])\n",
    "print(dis)\n",
    "speed =np.array([[1,3,4,],\n",
    "                [2,4,5]])\n",
    "print(speed)\n",
    "add= dis+speed\n",
    "print(add)"
   ]
  },
  {
   "cell_type": "code",
   "execution_count": 37,
   "id": "bba38696-17cd-4fab-9005-d3404565d9ee",
   "metadata": {},
   "outputs": [
    {
     "data": {
      "text/plain": [
       "array([[[0.48660942, 0.48899853, 0.22108622, 0.56324508],\n",
       "        [0.76514564, 0.51979538, 0.16672932, 0.98256635],\n",
       "        [0.07045629, 0.14637214, 0.70520368, 0.5015133 ]],\n",
       "\n",
       "       [[0.12497594, 0.9804005 , 0.14371725, 0.88733065],\n",
       "        [0.18427454, 0.86871004, 0.57315943, 0.45713392],\n",
       "        [0.5727725 , 0.9376402 , 0.83005969, 0.28419514]]])"
      ]
     },
     "execution_count": 37,
     "metadata": {},
     "output_type": "execute_result"
    }
   ],
   "source": [
    "r=np.random.random(24).reshape((2,3,4))\n",
    "r.shape\n",
    "r"
   ]
  },
  {
   "cell_type": "code",
   "execution_count": 38,
   "id": "981cb4ce-155f-4f3b-8362-140c401da742",
   "metadata": {},
   "outputs": [
    {
     "data": {
      "text/plain": [
       "array([[10, 10, 10],\n",
       "       [10, 10, 10]])"
      ]
     },
     "execution_count": 38,
     "metadata": {},
     "output_type": "execute_result"
    }
   ],
   "source": [
    "# array initilization\n",
    "# filling with same value\n",
    "np.full((2,3),10)"
   ]
  },
  {
   "cell_type": "code",
   "execution_count": 39,
   "id": "ce00c9ea-02a8-435b-9624-3dbc3fd5e1a8",
   "metadata": {},
   "outputs": [
    {
     "data": {
      "text/plain": [
       "array([[0., 0., 0.],\n",
       "       [0., 0., 0.]])"
      ]
     },
     "execution_count": 39,
     "metadata": {},
     "output_type": "execute_result"
    }
   ],
   "source": [
    "np.zeros((2,3))"
   ]
  },
  {
   "cell_type": "code",
   "execution_count": 42,
   "id": "79cded81-1bd3-4426-a485-b1c134647ebf",
   "metadata": {},
   "outputs": [
    {
     "data": {
      "text/plain": [
       "array([[1., 1., 1.],\n",
       "       [1., 1., 1.]])"
      ]
     },
     "execution_count": 42,
     "metadata": {},
     "output_type": "execute_result"
    }
   ],
   "source": [
    "np.ones((2,3))"
   ]
  },
  {
   "cell_type": "code",
   "execution_count": 44,
   "id": "2ec1a1c1-421e-40a8-b569-899c2627c50e",
   "metadata": {},
   "outputs": [
    {
     "data": {
      "text/plain": [
       "array([[1, 1, 1],\n",
       "       [1, 1, 1],\n",
       "       [1, 1, 1]])"
      ]
     },
     "execution_count": 44,
     "metadata": {},
     "output_type": "execute_result"
    }
   ],
   "source": [
    "np.full((3,3),1)"
   ]
  },
  {
   "cell_type": "code",
   "execution_count": 47,
   "id": "fd97da18-7d5d-4427-9026-fd7a952f83dd",
   "metadata": {},
   "outputs": [
    {
     "data": {
      "text/plain": [
       "array([10, 12, 14, 16, 18])"
      ]
     },
     "execution_count": 47,
     "metadata": {},
     "output_type": "execute_result"
    }
   ],
   "source": [
    "np.arange(10,20,2)"
   ]
  },
  {
   "cell_type": "code",
   "execution_count": 53,
   "id": "8b825019-35ff-4342-ba41-c3eef701cdde",
   "metadata": {},
   "outputs": [],
   "source": [
    "x= np.linspace(5,10,40)"
   ]
  },
  {
   "cell_type": "code",
   "execution_count": 54,
   "id": "b78aee7a-03fd-4dbd-9339-786a46e0263c",
   "metadata": {
    "scrolled": true,
    "tags": []
   },
   "outputs": [
    {
     "data": {
      "text/plain": [
       "array([ 5.        ,  5.12820513,  5.25641026,  5.38461538,  5.51282051,\n",
       "        5.64102564,  5.76923077,  5.8974359 ,  6.02564103,  6.15384615,\n",
       "        6.28205128,  6.41025641,  6.53846154,  6.66666667,  6.79487179,\n",
       "        6.92307692,  7.05128205,  7.17948718,  7.30769231,  7.43589744,\n",
       "        7.56410256,  7.69230769,  7.82051282,  7.94871795,  8.07692308,\n",
       "        8.20512821,  8.33333333,  8.46153846,  8.58974359,  8.71794872,\n",
       "        8.84615385,  8.97435897,  9.1025641 ,  9.23076923,  9.35897436,\n",
       "        9.48717949,  9.61538462,  9.74358974,  9.87179487, 10.        ])"
      ]
     },
     "execution_count": 54,
     "metadata": {},
     "output_type": "execute_result"
    }
   ],
   "source": [
    "x"
   ]
  },
  {
   "cell_type": "code",
   "execution_count": 56,
   "id": "95de7092-9701-4ac7-8398-b0338514ad71",
   "metadata": {},
   "outputs": [
    {
     "data": {
      "text/plain": [
       "(40,)"
      ]
     },
     "execution_count": 56,
     "metadata": {},
     "output_type": "execute_result"
    }
   ],
   "source": [
    "# arrawy iinspection \n",
    "x.shape\n",
    "\n"
   ]
  },
  {
   "cell_type": "code",
   "execution_count": 57,
   "id": "436d62ce-8778-42bc-8ccd-8412114c67cd",
   "metadata": {},
   "outputs": [
    {
     "data": {
      "text/plain": [
       "40"
      ]
     },
     "execution_count": 57,
     "metadata": {},
     "output_type": "execute_result"
    }
   ],
   "source": [
    "x.size"
   ]
  },
  {
   "cell_type": "code",
   "execution_count": 58,
   "id": "4dd850f6-da35-4678-9804-32bfde7be692",
   "metadata": {},
   "outputs": [
    {
     "data": {
      "text/plain": [
       "1"
      ]
     },
     "execution_count": 58,
     "metadata": {},
     "output_type": "execute_result"
    }
   ],
   "source": [
    "x.ndim"
   ]
  },
  {
   "cell_type": "code",
   "execution_count": 59,
   "id": "94c32c7b-8f90-4805-9e40-6682af57734a",
   "metadata": {},
   "outputs": [
    {
     "data": {
      "text/plain": [
       "dtype('float64')"
      ]
     },
     "execution_count": 59,
     "metadata": {},
     "output_type": "execute_result"
    }
   ],
   "source": [
    "x.dtype"
   ]
  },
  {
   "cell_type": "code",
   "execution_count": 60,
   "id": "6966b635-b0e6-467d-872a-fe3df5f4ea58",
   "metadata": {},
   "outputs": [
    {
     "data": {
      "text/plain": [
       "7.5"
      ]
     },
     "execution_count": 60,
     "metadata": {},
     "output_type": "execute_result"
    }
   ],
   "source": [
    "np.median(x)"
   ]
  },
  {
   "cell_type": "code",
   "execution_count": 61,
   "id": "3670c704-0637-476e-8251-edfeeb1cb540",
   "metadata": {},
   "outputs": [
    {
     "data": {
      "text/plain": [
       "7.5"
      ]
     },
     "execution_count": 61,
     "metadata": {},
     "output_type": "execute_result"
    }
   ],
   "source": [
    "np.mean(x)"
   ]
  },
  {
   "cell_type": "code",
   "execution_count": 62,
   "id": "6ccaf1be-b732-42b4-9e35-dfcf365d0be2",
   "metadata": {},
   "outputs": [
    {
     "data": {
      "text/plain": [
       "1.4799226128993839"
      ]
     },
     "execution_count": 62,
     "metadata": {},
     "output_type": "execute_result"
    }
   ],
   "source": [
    "np.std(x)"
   ]
  },
  {
   "cell_type": "code",
   "execution_count": null,
   "id": "2d7dc9e7-8f9a-4131-96bc-83229a53fe22",
   "metadata": {},
   "outputs": [],
   "source": []
  }
 ],
 "metadata": {
  "kernelspec": {
   "display_name": "Python 3 (ipykernel)",
   "language": "python",
   "name": "python3"
  },
  "language_info": {
   "codemirror_mode": {
    "name": "ipython",
    "version": 3
   },
   "file_extension": ".py",
   "mimetype": "text/x-python",
   "name": "python",
   "nbconvert_exporter": "python",
   "pygments_lexer": "ipython3",
   "version": "3.9.7"
  }
 },
 "nbformat": 4,
 "nbformat_minor": 5
}
